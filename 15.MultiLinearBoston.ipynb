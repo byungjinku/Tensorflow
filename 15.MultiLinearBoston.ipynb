{
 "cells": [
  {
   "cell_type": "code",
   "execution_count": null,
   "metadata": {},
   "outputs": [],
   "source": [
    "# bostonhousing.csv 데이터 이용하여 w, b값을 구하고 \n",
    "# 0.00632\t18\t2.31\t0\t0.538\t6.575\t65.2\t4.09\t1\t296\t15.3\t396.9\t4.98\t24\n",
    "# 데이터로 추택가격을 예측하시요\n",
    "# 데이터로 주택가격을 예측하시요\n",
    "# 정규화 하시요 \n"
   ]
  },
  {
   "cell_type": "code",
   "execution_count": 2,
   "metadata": {},
   "outputs": [],
   "source": [
    "import tensorflow as tf\n",
    "import numpy as np\n",
    "import matplotlib.pyplot as plt\n",
    "import pandas as pd\n",
    "from sklearn import preprocessing  # 전처리...."
   ]
  },
  {
   "cell_type": "code",
   "execution_count": 3,
   "metadata": {},
   "outputs": [],
   "source": [
    "data = pd.read_csv('data/BostonHousing.csv')"
   ]
  },
  {
   "cell_type": "code",
   "execution_count": 4,
   "metadata": {},
   "outputs": [],
   "source": [
    "data = np.array(data)"
   ]
  },
  {
   "cell_type": "code",
   "execution_count": 5,
   "metadata": {},
   "outputs": [],
   "source": [
    "xdata = data[:,:-1]\n",
    "ydata = data[:,[-1]]"
   ]
  },
  {
   "cell_type": "code",
   "execution_count": 6,
   "metadata": {},
   "outputs": [],
   "source": [
    "feature_scale = preprocessing.MinMaxScaler()\n",
    "xdataN = feature_scale.fit_transform(xdata)\n",
    "\n",
    "label_scale = preprocessing.MinMaxScaler()\n",
    "ydataN = label_scale.fit_transform(ydata)"
   ]
  },
  {
   "cell_type": "code",
   "execution_count": 15,
   "metadata": {},
   "outputs": [],
   "source": [
    "x = tf.placeholder(tf.float32, shape=[None,13])\n",
    "y = tf.constant(ydataN, tf.float32)\n",
    "w = tf.Variable(tf.random_uniform([13,1]))\n",
    "b = tf.Variable(tf.random_uniform([1]))\n",
    "\n",
    "hx = tf.matmul(x,w) + b\n",
    "cost = tf.reduce_mean(tf.square(hx-y))\n",
    "\n",
    "optimizer = tf.train.AdamOptimizer(0.1) #learning rate\n",
    "train = optimizer.minimize(cost)\n",
    "\n",
    "sess = tf.Session()\n",
    "init = tf.global_variables_initializer()\n",
    "sess.run(init)\n",
    "\n",
    "for i in range(10000):\n",
    "    sess.run(train, {x:xdataN})\n",
    "#     print(i, sess.run(cost, {x:xdataN}))    "
   ]
  },
  {
   "cell_type": "code",
   "execution_count": 8,
   "metadata": {},
   "outputs": [
    {
     "data": {
      "text/plain": [
       "array([[-0.21269485],\n",
       "       [ 0.10401191],\n",
       "       [ 0.01331842],\n",
       "       [ 0.06056044],\n",
       "       [-0.19102408],\n",
       "       [ 0.44271508],\n",
       "       [ 0.00234897],\n",
       "       [-0.35973713],\n",
       "       [ 0.15728064],\n",
       "       [-0.14277425],\n",
       "       [-0.19816299],\n",
       "       [ 0.08291816],\n",
       "       [-0.4217501 ]], dtype=float32)"
      ]
     },
     "execution_count": 8,
     "metadata": {},
     "output_type": "execute_result"
    }
   ],
   "source": [
    "sess.run(w)"
   ]
  },
  {
   "cell_type": "code",
   "execution_count": 9,
   "metadata": {},
   "outputs": [
    {
     "data": {
      "text/plain": [
       "array([0.4813055], dtype=float32)"
      ]
     },
     "execution_count": 9,
     "metadata": {},
     "output_type": "execute_result"
    }
   ],
   "source": [
    "sess.run(b)"
   ]
  },
  {
   "cell_type": "code",
   "execution_count": 10,
   "metadata": {},
   "outputs": [
    {
     "data": {
      "text/plain": [
       "array([[30.182268]], dtype=float32)"
      ]
     },
     "execution_count": 10,
     "metadata": {},
     "output_type": "execute_result"
    }
   ],
   "source": [
    "# arr = feature_scale.transform([[0.00632 ,18 ,2.31 ,0 ,0.538 ,6.575, 65.2 ,4.09 ,1 ,296 ,15.3 ,396.9 ,4.98 ]])\n",
    "arr = feature_scale.transform(xdata[[0],:])\n",
    "label_scale.inverse_transform(sess.run(hx, {x:arr}))"
   ]
  },
  {
   "cell_type": "code",
   "execution_count": null,
   "metadata": {},
   "outputs": [],
   "source": []
  }
 ],
 "metadata": {
  "kernelspec": {
   "display_name": "Python 3",
   "language": "python",
   "name": "python3"
  },
  "language_info": {
   "codemirror_mode": {
    "name": "ipython",
    "version": 3
   },
   "file_extension": ".py",
   "mimetype": "text/x-python",
   "name": "python",
   "nbconvert_exporter": "python",
   "pygments_lexer": "ipython3",
   "version": "3.7.6"
  }
 },
 "nbformat": 4,
 "nbformat_minor": 4
}
