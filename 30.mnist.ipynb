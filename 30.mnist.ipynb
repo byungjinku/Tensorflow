{
 "cells": [
  {
   "cell_type": "code",
   "execution_count": 1,
   "metadata": {},
   "outputs": [],
   "source": [
    "import tensorflow as tf\n",
    "import numpy as np\n",
    "import pandas as pd\n",
    "from tensorflow.examples.tutorials.mnist import input_data\n",
    "from sklearn import datasets\n",
    "import matplotlib.pyplot as plt"
   ]
  },
  {
   "cell_type": "code",
   "execution_count": 2,
   "metadata": {},
   "outputs": [
    {
     "name": "stdout",
     "output_type": "stream",
     "text": [
      "WARNING:tensorflow:From <ipython-input-2-814dd45adf0b>:1: read_data_sets (from tensorflow.contrib.learn.python.learn.datasets.mnist) is deprecated and will be removed in a future version.\n",
      "Instructions for updating:\n",
      "Please use alternatives such as official/mnist/dataset.py from tensorflow/models.\n",
      "WARNING:tensorflow:From C:\\Users\\user\\anaconda3\\lib\\site-packages\\tensorflow_core\\contrib\\learn\\python\\learn\\datasets\\mnist.py:260: maybe_download (from tensorflow.contrib.learn.python.learn.datasets.base) is deprecated and will be removed in a future version.\n",
      "Instructions for updating:\n",
      "Please write your own downloading logic.\n",
      "WARNING:tensorflow:From C:\\Users\\user\\anaconda3\\lib\\site-packages\\tensorflow_core\\contrib\\learn\\python\\learn\\datasets\\mnist.py:262: extract_images (from tensorflow.contrib.learn.python.learn.datasets.mnist) is deprecated and will be removed in a future version.\n",
      "Instructions for updating:\n",
      "Please use tf.data to implement this functionality.\n",
      "Extracting MNIST_data\\train-images-idx3-ubyte.gz\n",
      "WARNING:tensorflow:From C:\\Users\\user\\anaconda3\\lib\\site-packages\\tensorflow_core\\contrib\\learn\\python\\learn\\datasets\\mnist.py:267: extract_labels (from tensorflow.contrib.learn.python.learn.datasets.mnist) is deprecated and will be removed in a future version.\n",
      "Instructions for updating:\n",
      "Please use tf.data to implement this functionality.\n",
      "Extracting MNIST_data\\train-labels-idx1-ubyte.gz\n",
      "WARNING:tensorflow:From C:\\Users\\user\\anaconda3\\lib\\site-packages\\tensorflow_core\\contrib\\learn\\python\\learn\\datasets\\mnist.py:110: dense_to_one_hot (from tensorflow.contrib.learn.python.learn.datasets.mnist) is deprecated and will be removed in a future version.\n",
      "Instructions for updating:\n",
      "Please use tf.one_hot on tensors.\n",
      "Extracting MNIST_data\\t10k-images-idx3-ubyte.gz\n",
      "Extracting MNIST_data\\t10k-labels-idx1-ubyte.gz\n",
      "WARNING:tensorflow:From C:\\Users\\user\\anaconda3\\lib\\site-packages\\tensorflow_core\\contrib\\learn\\python\\learn\\datasets\\mnist.py:290: DataSet.__init__ (from tensorflow.contrib.learn.python.learn.datasets.mnist) is deprecated and will be removed in a future version.\n",
      "Instructions for updating:\n",
      "Please use alternatives such as official/mnist/dataset.py from tensorflow/models.\n"
     ]
    }
   ],
   "source": [
    "mnist= input_data.read_data_sets('MNIST_data', one_hot=True)"
   ]
  },
  {
   "cell_type": "code",
   "execution_count": 3,
   "metadata": {},
   "outputs": [
    {
     "data": {
      "text/plain": [
       "(55000, 784)"
      ]
     },
     "execution_count": 3,
     "metadata": {},
     "output_type": "execute_result"
    }
   ],
   "source": [
    "mnist.train.images.shape"
   ]
  },
  {
   "cell_type": "code",
   "execution_count": 4,
   "metadata": {},
   "outputs": [],
   "source": [
    "x_train = mnist.train.images\n",
    "x_test = mnist.test.images\n",
    "y_train = mnist.train.labels\n",
    "y_test = mnist.test.labels"
   ]
  },
  {
   "cell_type": "code",
   "execution_count": 5,
   "metadata": {},
   "outputs": [
    {
     "data": {
      "text/plain": [
       "(55000, 784)"
      ]
     },
     "execution_count": 5,
     "metadata": {},
     "output_type": "execute_result"
    }
   ],
   "source": [
    "x_train.shape"
   ]
  },
  {
   "cell_type": "code",
   "execution_count": 6,
   "metadata": {},
   "outputs": [
    {
     "data": {
      "text/plain": [
       "(55000, 10)"
      ]
     },
     "execution_count": 6,
     "metadata": {},
     "output_type": "execute_result"
    }
   ],
   "source": [
    "y_train.shape"
   ]
  },
  {
   "cell_type": "code",
   "execution_count": 7,
   "metadata": {},
   "outputs": [],
   "source": [
    "x = tf.placeholder( tf.float32, [None,784])\n",
    "y = tf.constant( y_train, tf.float32)"
   ]
  },
  {
   "cell_type": "code",
   "execution_count": 8,
   "metadata": {},
   "outputs": [],
   "source": [
    "w1 = tf.Variable( tf.random_uniform([784,100 ]) )\n",
    "b1 = tf.Variable( tf.random_uniform([100]) )\n",
    "w2 = tf.Variable( tf.random_uniform([100,10 ]) )\n",
    "b2 = tf.Variable( tf.random_uniform([10]) )"
   ]
  },
  {
   "cell_type": "code",
   "execution_count": 9,
   "metadata": {},
   "outputs": [
    {
     "name": "stdout",
     "output_type": "stream",
     "text": [
      "WARNING:tensorflow:\n",
      "The TensorFlow contrib module will not be included in TensorFlow 2.0.\n",
      "For more information, please see:\n",
      "  * https://github.com/tensorflow/community/blob/master/rfcs/20180907-contrib-sunset.md\n",
      "  * https://github.com/tensorflow/addons\n",
      "  * https://github.com/tensorflow/io (for I/O related ops)\n",
      "If you depend on functionality not listed there, please file an issue.\n",
      "\n"
     ]
    }
   ],
   "source": [
    "w1 = tf.get_variable( 'w1',[784,100] ,\n",
    "        initializer=tf.contrib.layers.xavier_initializer() )\n",
    "b1 = tf.get_variable( 'b1',[100] ,\n",
    "        initializer=tf.contrib.layers.xavier_initializer() )\n",
    "w2 = tf.get_variable( 'w2',[100,10] ,\n",
    "        initializer=tf.contrib.layers.xavier_initializer() )\n",
    "b2 = tf.get_variable( 'b2',[10] ,\n",
    "        initializer=tf.contrib.layers.xavier_initializer() )"
   ]
  },
  {
   "cell_type": "code",
   "execution_count": 10,
   "metadata": {},
   "outputs": [],
   "source": [
    "z1 = tf.matmul( x, w1) + b1\n",
    "lay1 = tf.nn.relu( z1 )\n",
    "z2 = tf.matmul( lay1, w2 ) + b2\n",
    "hx = tf.nn.softmax( z2 )"
   ]
  },
  {
   "cell_type": "code",
   "execution_count": 11,
   "metadata": {},
   "outputs": [],
   "source": [
    "cost_i = tf.nn.softmax_cross_entropy_with_logits_v2(logits=z2,\n",
    "                                            labels=y)\n",
    "cost = tf.reduce_mean(cost_i)"
   ]
  },
  {
   "cell_type": "code",
   "execution_count": 12,
   "metadata": {},
   "outputs": [],
   "source": [
    "optimizer = tf.train.GradientDescentOptimizer(0.1)#learning rate\n",
    "train = optimizer.minimize( cost )\n",
    "sess = tf.Session()\n",
    "init =tf.global_variables_initializer()\n",
    "sess.run( init)"
   ]
  },
  {
   "cell_type": "code",
   "execution_count": 13,
   "metadata": {
    "collapsed": true,
    "jupyter": {
     "outputs_hidden": true
    }
   },
   "outputs": [
    {
     "name": "stdout",
     "output_type": "stream",
     "text": [
      "0 2.3079243\n",
      "1 2.2113597\n",
      "2 2.1288753\n",
      "3 2.053267\n",
      "4 1.9814297\n",
      "5 1.9120545\n",
      "6 1.8445283\n",
      "7 1.7787561\n",
      "8 1.7147787\n",
      "9 1.652719\n",
      "10 1.5927532\n",
      "11 1.5350102\n",
      "12 1.4795805\n",
      "13 1.426616\n",
      "14 1.3761753\n",
      "15 1.328305\n",
      "16 1.2830454\n",
      "17 1.2404041\n",
      "18 1.2002785\n",
      "19 1.1625981\n",
      "20 1.127273\n",
      "21 1.0941776\n",
      "22 1.0631804\n",
      "23 1.0341464\n",
      "24 1.0069495\n",
      "25 0.98146534\n",
      "26 0.95756114\n",
      "27 0.9351258\n",
      "28 0.91405916\n",
      "29 0.8942571\n",
      "30 0.8756263\n",
      "31 0.85807204\n",
      "32 0.8415152\n",
      "33 0.8258764\n",
      "34 0.8110919\n",
      "35 0.7970957\n",
      "36 0.78383166\n",
      "37 0.77124226\n",
      "38 0.7592825\n",
      "39 0.7479067\n",
      "40 0.7370757\n",
      "41 0.72675097\n",
      "42 0.7168999\n",
      "43 0.70748806\n",
      "44 0.69848585\n",
      "45 0.689867\n",
      "46 0.6816086\n",
      "47 0.67368835\n",
      "48 0.6660861\n",
      "49 0.65878236\n",
      "50 0.6517599\n",
      "51 0.6450021\n",
      "52 0.6384932\n",
      "53 0.63221943\n",
      "54 0.6261685\n",
      "55 0.62032866\n",
      "56 0.61468875\n",
      "57 0.6092371\n",
      "58 0.6039649\n",
      "59 0.5988623\n",
      "60 0.59392107\n",
      "61 0.5891336\n",
      "62 0.5844929\n",
      "63 0.5799913\n",
      "64 0.57562286\n",
      "65 0.57138157\n",
      "66 0.5672624\n",
      "67 0.5632599\n",
      "68 0.559368\n",
      "69 0.55558175\n",
      "70 0.55189645\n",
      "71 0.5483087\n",
      "72 0.5448139\n",
      "73 0.5414086\n",
      "74 0.5380901\n",
      "75 0.5348547\n",
      "76 0.53169864\n",
      "77 0.52861947\n",
      "78 0.52561414\n",
      "79 0.5226803\n",
      "80 0.5198144\n",
      "81 0.5170145\n",
      "82 0.51427853\n",
      "83 0.5116038\n",
      "84 0.50898784\n",
      "85 0.50642914\n",
      "86 0.5039255\n",
      "87 0.50147593\n",
      "88 0.49907812\n",
      "89 0.4967307\n",
      "90 0.49443173\n",
      "91 0.49218005\n",
      "92 0.4899737\n",
      "93 0.48781106\n",
      "94 0.48569104\n",
      "95 0.4836123\n",
      "96 0.48157316\n",
      "97 0.4795726\n",
      "98 0.47760946\n",
      "99 0.47568274\n",
      "100 0.47379142\n",
      "101 0.47193432\n",
      "102 0.47011036\n",
      "103 0.46831897\n",
      "104 0.46655917\n",
      "105 0.46482998\n",
      "106 0.4631305\n",
      "107 0.46146005\n",
      "108 0.45981765\n",
      "109 0.4582027\n",
      "110 0.45661438\n",
      "111 0.45505205\n",
      "112 0.45351508\n",
      "113 0.4520027\n",
      "114 0.45051432\n",
      "115 0.44904944\n",
      "116 0.44760704\n",
      "117 0.44618675\n",
      "118 0.44478813\n",
      "119 0.44341037\n",
      "120 0.44205326\n",
      "121 0.44071642\n",
      "122 0.43939912\n",
      "123 0.43810096\n",
      "124 0.43682155\n",
      "125 0.43556044\n",
      "126 0.43431705\n",
      "127 0.43309134\n",
      "128 0.4318826\n",
      "129 0.4306905\n",
      "130 0.4295144\n",
      "131 0.42835447\n",
      "132 0.4272098\n",
      "133 0.4260806\n",
      "134 0.42496604\n",
      "135 0.42386606\n",
      "136 0.42278025\n",
      "137 0.42170823\n",
      "138 0.42064986\n",
      "139 0.41960496\n",
      "140 0.41857293\n",
      "141 0.41755384\n",
      "142 0.4165473\n",
      "143 0.4155529\n",
      "144 0.4145704\n",
      "145 0.41359943\n",
      "146 0.41264012\n",
      "147 0.4116921\n",
      "148 0.41075516\n",
      "149 0.4098291\n",
      "150 0.4089139\n",
      "151 0.40800905\n",
      "152 0.4071146\n",
      "153 0.40623012\n",
      "154 0.40535557\n",
      "155 0.40449083\n",
      "156 0.40363532\n",
      "157 0.40278906\n",
      "158 0.4019517\n",
      "159 0.4011231\n",
      "160 0.40030327\n",
      "161 0.39949176\n",
      "162 0.3986887\n",
      "163 0.39789402\n",
      "164 0.39710772\n",
      "165 0.39632922\n",
      "166 0.3955586\n",
      "167 0.39479575\n",
      "168 0.39404032\n",
      "169 0.39329237\n",
      "170 0.39255178\n",
      "171 0.39181846\n",
      "172 0.39109248\n",
      "173 0.3903734\n",
      "174 0.3896614\n",
      "175 0.38895628\n",
      "176 0.38825786\n",
      "177 0.38756594\n",
      "178 0.38688046\n",
      "179 0.3862013\n",
      "180 0.38552803\n",
      "181 0.38486084\n",
      "182 0.38419953\n",
      "183 0.38354397\n",
      "184 0.3828942\n",
      "185 0.3822502\n",
      "186 0.38161168\n",
      "187 0.3809786\n",
      "188 0.38035092\n",
      "189 0.37972856\n",
      "190 0.3791114\n",
      "191 0.37849942\n",
      "192 0.37789237\n",
      "193 0.37729013\n",
      "194 0.37669265\n",
      "195 0.37609988\n",
      "196 0.37551188\n",
      "197 0.37492877\n",
      "198 0.37435028\n",
      "199 0.37377635\n",
      "200 0.37320697\n",
      "201 0.37264183\n",
      "202 0.3720812\n",
      "203 0.37152493\n",
      "204 0.3709728\n",
      "205 0.3704249\n",
      "206 0.3698811\n",
      "207 0.36934134\n",
      "208 0.36880562\n",
      "209 0.3682738\n",
      "210 0.36774597\n",
      "211 0.36722186\n",
      "212 0.36670163\n",
      "213 0.3661853\n",
      "214 0.36567262\n",
      "215 0.36516353\n",
      "216 0.36465806\n",
      "217 0.364156\n",
      "218 0.36365718\n",
      "219 0.3631618\n",
      "220 0.3626697\n",
      "221 0.36218083\n",
      "222 0.36169532\n",
      "223 0.361213\n",
      "224 0.36073387\n",
      "225 0.3602578\n",
      "226 0.359785\n",
      "227 0.35931534\n",
      "228 0.35884887\n",
      "229 0.35838544\n",
      "230 0.357925\n",
      "231 0.35746768\n",
      "232 0.3570132\n",
      "233 0.35656166\n",
      "234 0.356113\n",
      "235 0.35566714\n",
      "236 0.355224\n",
      "237 0.35478345\n",
      "238 0.35434553\n",
      "239 0.3539101\n",
      "240 0.35347742\n",
      "241 0.35304716\n",
      "242 0.35261968\n",
      "243 0.3521947\n",
      "244 0.35177186\n",
      "245 0.3513513\n",
      "246 0.35093302\n",
      "247 0.3505172\n",
      "248 0.35010377\n",
      "249 0.34969276\n",
      "250 0.34928417\n",
      "251 0.34887794\n",
      "252 0.34847412\n",
      "253 0.34807244\n",
      "254 0.34767318\n",
      "255 0.3472761\n",
      "256 0.34688103\n",
      "257 0.34648803\n",
      "258 0.34609717\n",
      "259 0.34570837\n",
      "260 0.34532166\n",
      "261 0.3449368\n",
      "262 0.3445538\n",
      "263 0.34417295\n",
      "264 0.34379408\n",
      "265 0.34341726\n",
      "266 0.3430424\n",
      "267 0.34266976\n",
      "268 0.34229907\n",
      "269 0.34193042\n",
      "270 0.34156355\n",
      "271 0.34119853\n",
      "272 0.34083536\n",
      "273 0.3404742\n",
      "274 0.34011477\n",
      "275 0.33975682\n",
      "276 0.33940068\n",
      "277 0.33904612\n",
      "278 0.3386933\n",
      "279 0.33834195\n",
      "280 0.33799204\n",
      "281 0.33764383\n",
      "282 0.33729717\n",
      "283 0.336952\n",
      "284 0.33660835\n",
      "285 0.33626634\n",
      "286 0.33592585\n",
      "287 0.33558708\n",
      "288 0.33524993\n",
      "289 0.33491427\n",
      "290 0.3345802\n",
      "291 0.33424765\n",
      "292 0.33391678\n",
      "293 0.33358735\n",
      "294 0.33325952\n",
      "295 0.33293304\n",
      "296 0.332608\n",
      "297 0.33228445\n",
      "298 0.3319624\n",
      "299 0.33164144\n"
     ]
    }
   ],
   "source": [
    "for i in range(300):\n",
    "    sess.run( train, {x:x_train})\n",
    "    print( i, sess.run( cost, {x:x_train}))"
   ]
  },
  {
   "cell_type": "code",
   "execution_count": 14,
   "metadata": {},
   "outputs": [
    {
     "data": {
      "image/png": "[encoded data removed]",
      "text/plain": [
       "<Figure size 432x288 with 1 Axes>"
      ]
     },
     "metadata": {
      "needs_background": "light"
     },
     "output_type": "display_data"
    }
   ],
   "source": [
    "plt.imshow( x_test[0].reshape(28,28))\n",
    "plt.show()"
   ]
  },
  {
   "cell_type": "code",
   "execution_count": 29,
   "metadata": {},
   "outputs": [
    {
     "data": {
      "text/plain": [
       "array([7], dtype=int64)"
      ]
     },
     "execution_count": 29,
     "metadata": {},
     "output_type": "execute_result"
    }
   ],
   "source": [
    "sess.run( hx, {x:x_test[[0]]}).argmax( axis=1)"
   ]
  },
  {
   "cell_type": "markdown",
   "metadata": {},
   "source": [
    "### 정확도"
   ]
  },
  {
   "cell_type": "code",
   "execution_count": 30,
   "metadata": {},
   "outputs": [],
   "source": [
    "aa = sess.run(hx,{x:x_test})\n",
    "h = aa.argmax(axis=1)"
   ]
  },
  {
   "cell_type": "code",
   "execution_count": 31,
   "metadata": {},
   "outputs": [],
   "source": [
    "bb = y_test.argmax(axis=1)"
   ]
  },
  {
   "cell_type": "code",
   "execution_count": 32,
   "metadata": {},
   "outputs": [
    {
     "data": {
      "text/plain": [
       "0.9119"
      ]
     },
     "execution_count": 32,
     "metadata": {},
     "output_type": "execute_result"
    }
   ],
   "source": [
    "(h==bb).mean()"
   ]
  },
  {
   "cell_type": "code",
   "execution_count": null,
   "metadata": {},
   "outputs": [],
   "source": []
  }
 ],
 "metadata": {
  "kernelspec": {
   "display_name": "Python 3",
   "language": "python",
   "name": "python3"
  },
  "language_info": {
   "codemirror_mode": {
    "name": "ipython",
    "version": 3
   },
   "file_extension": ".py",
   "mimetype": "text/x-python",
   "name": "python",
   "nbconvert_exporter": "python",
   "pygments_lexer": "ipython3",
   "version": "3.7.6"
  }
 },
 "nbformat": 4,
 "nbformat_minor": 4
}
