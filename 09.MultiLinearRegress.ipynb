{
 "cells": [
  {
   "cell_type": "code",
   "execution_count": 1,
   "metadata": {},
   "outputs": [],
   "source": [
    "import tensorflow as tf\n",
    "import numpy as np\n",
    "import pandas as pd\n",
    "import matplotlib.pyplot as plt"
   ]
  },
  {
   "cell_type": "code",
   "execution_count": 5,
   "metadata": {},
   "outputs": [],
   "source": [
    "x1 = tf.constant([1,0,3,0,5], tf.float32) #공부한 시간\n",
    "x2 = tf.constant([0,2,3,4,5], tf.float32) #출석일수\n",
    "y = tf.constant([1,2,3,4,5], tf.float32) #받은 점수"
   ]
  },
  {
   "cell_type": "code",
   "execution_count": 6,
   "metadata": {},
   "outputs": [],
   "source": [
    "w1 = tf.Variable(tf.random_uniform([1]))\n",
    "w2 = tf.Variable(tf.random_uniform([1]))\n",
    "b = tf.Variable(tf.random_uniform([1]))"
   ]
  },
  {
   "cell_type": "code",
   "execution_count": 7,
   "metadata": {},
   "outputs": [],
   "source": [
    "hx = w1*x1 + w2*x2 + b\n",
    "cost = tf.reduce_mean(tf.square(hx-y))"
   ]
  },
  {
   "cell_type": "code",
   "execution_count": 8,
   "metadata": {},
   "outputs": [],
   "source": [
    "optimizer = tf.train.GradientDescentOptimizer(0.1)#learning rate\n",
    "train = optimizer.minimize( cost )"
   ]
  },
  {
   "cell_type": "code",
   "execution_count": 9,
   "metadata": {},
   "outputs": [],
   "source": [
    "sess = tf.Session()\n",
    "init =tf.global_variables_initializer()\n",
    "sess.run( init)"
   ]
  },
  {
   "cell_type": "code",
   "execution_count": 10,
   "metadata": {},
   "outputs": [
    {
     "name": "stdout",
     "output_type": "stream",
     "text": [
      "0 3.7901616\n",
      "1 3.5921657\n",
      "2 3.406791\n",
      "3 3.2332122\n",
      "4 3.0706584\n",
      "5 2.9184105\n",
      "6 2.7757952\n",
      "7 2.642184\n",
      "8 2.5169888\n",
      "9 2.3996615\n",
      "10 2.289688\n",
      "11 2.1865888\n",
      "12 2.0899167\n",
      "13 1.999252\n",
      "14 1.9142044\n",
      "15 1.8344069\n",
      "16 1.7595189\n",
      "17 1.689221\n",
      "18 1.623214\n",
      "19 1.5612193\n",
      "20 1.5029764\n",
      "21 1.4482416\n",
      "22 1.3967876\n",
      "23 1.3484017\n",
      "24 1.3028843\n",
      "25 1.2600504\n",
      "26 1.2197267\n",
      "27 1.1817496\n",
      "28 1.1459687\n",
      "29 1.112242\n",
      "30 1.080437\n",
      "31 1.0504293\n",
      "32 1.022104\n",
      "33 0.99535245\n",
      "34 0.97007406\n",
      "35 0.94617444\n",
      "36 0.9235649\n",
      "37 0.90216315\n",
      "38 0.8818917\n",
      "39 0.8626792\n",
      "40 0.8444576\n",
      "41 0.8271645\n",
      "42 0.8107408\n",
      "43 0.79513174\n",
      "44 0.7802855\n",
      "45 0.76615417\n",
      "46 0.75269306\n",
      "47 0.73985964\n",
      "48 0.7276153\n",
      "49 0.71592295\n",
      "50 0.70474833\n",
      "51 0.6940594\n",
      "52 0.6838263\n",
      "53 0.6740209\n",
      "54 0.664617\n",
      "55 0.65559006\n",
      "56 0.646917\n",
      "57 0.63857645\n",
      "58 0.63054883\n",
      "59 0.62281495\n",
      "60 0.61535746\n",
      "61 0.60815984\n",
      "62 0.6012071\n",
      "63 0.5944843\n",
      "64 0.5879789\n",
      "65 0.5816775\n",
      "66 0.57556885\n",
      "67 0.5696417\n",
      "68 0.5638861\n",
      "69 0.5582923\n",
      "70 0.55285126\n",
      "71 0.5475547\n",
      "72 0.54239464\n",
      "73 0.53736377\n",
      "74 0.5324552\n",
      "75 0.5276624\n",
      "76 0.52297926\n",
      "77 0.5184002\n",
      "78 0.51392025\n",
      "79 0.50953376\n",
      "80 0.50523674\n",
      "81 0.50102425\n",
      "82 0.49689263\n",
      "83 0.49283808\n",
      "84 0.4888568\n",
      "85 0.4849454\n",
      "86 0.4811008\n",
      "87 0.47732013\n",
      "88 0.4736004\n",
      "89 0.46993932\n",
      "90 0.46633416\n",
      "91 0.46278277\n",
      "92 0.45928296\n",
      "93 0.45583278\n",
      "94 0.4524302\n",
      "95 0.4490737\n",
      "96 0.4457612\n",
      "97 0.44249144\n",
      "98 0.4392627\n",
      "99 0.43607378\n"
     ]
    }
   ],
   "source": [
    "for i in range(100):\n",
    "    sess.run(train)\n",
    "    print(i, sess.run(cost))"
   ]
  },
  {
   "cell_type": "code",
   "execution_count": 11,
   "metadata": {},
   "outputs": [
    {
     "data": {
      "text/plain": [
       "array([0.44005567], dtype=float32)"
      ]
     },
     "execution_count": 11,
     "metadata": {},
     "output_type": "execute_result"
    }
   ],
   "source": [
    "sess.run(w1)"
   ]
  },
  {
   "cell_type": "code",
   "execution_count": 12,
   "metadata": {},
   "outputs": [
    {
     "data": {
      "text/plain": [
       "array([0.5103654], dtype=float32)"
      ]
     },
     "execution_count": 12,
     "metadata": {},
     "output_type": "execute_result"
    }
   ],
   "source": [
    "sess.run(w2)"
   ]
  },
  {
   "cell_type": "code",
   "execution_count": 13,
   "metadata": {},
   "outputs": [
    {
     "data": {
      "text/plain": [
       "array([0.7130583], dtype=float32)"
      ]
     },
     "execution_count": 13,
     "metadata": {},
     "output_type": "execute_result"
    }
   ],
   "source": [
    "sess.run(b)"
   ]
  },
  {
   "cell_type": "code",
   "execution_count": null,
   "metadata": {},
   "outputs": [],
   "source": []
  }
 ],
 "metadata": {
  "kernelspec": {
   "display_name": "Python 3",
   "language": "python",
   "name": "python3"
  },
  "language_info": {
   "codemirror_mode": {
    "name": "ipython",
    "version": 3
   },
   "file_extension": ".py",
   "mimetype": "text/x-python",
   "name": "python",
   "nbconvert_exporter": "python",
   "pygments_lexer": "ipython3",
   "version": "3.7.6"
  }
 },
 "nbformat": 4,
 "nbformat_minor": 4
}
