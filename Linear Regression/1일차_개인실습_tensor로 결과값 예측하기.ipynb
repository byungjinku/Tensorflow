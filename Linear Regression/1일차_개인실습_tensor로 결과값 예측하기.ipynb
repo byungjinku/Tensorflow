{
 "cells": [
  {
   "cell_type": "code",
   "execution_count": 1,
   "metadata": {},
   "outputs": [],
   "source": [
    "import tensorflow as tf\n",
    "import numpy as np\n",
    "import pandas as pd\n",
    "import matplotlib.pyplot as plt"
   ]
  },
  {
   "cell_type": "code",
   "execution_count": 2,
   "metadata": {},
   "outputs": [
    {
     "data": {
      "text/html": [
       "<div>\n",
       "<style scoped>\n",
       "    .dataframe tbody tr th:only-of-type {\n",
       "        vertical-align: middle;\n",
       "    }\n",
       "\n",
       "    .dataframe tbody tr th {\n",
       "        vertical-align: top;\n",
       "    }\n",
       "\n",
       "    .dataframe thead th {\n",
       "        text-align: right;\n",
       "    }\n",
       "</style>\n",
       "<table border=\"1\" class=\"dataframe\">\n",
       "  <thead>\n",
       "    <tr style=\"text-align: right;\">\n",
       "      <th></th>\n",
       "      <th>index</th>\n",
       "      <th>product</th>\n",
       "      <th>use</th>\n",
       "    </tr>\n",
       "  </thead>\n",
       "  <tbody>\n",
       "    <tr>\n",
       "      <th>0</th>\n",
       "      <td>0</td>\n",
       "      <td>3.52</td>\n",
       "      <td>2.48</td>\n",
       "    </tr>\n",
       "    <tr>\n",
       "      <th>1</th>\n",
       "      <td>1</td>\n",
       "      <td>2.58</td>\n",
       "      <td>2.27</td>\n",
       "    </tr>\n",
       "    <tr>\n",
       "      <th>2</th>\n",
       "      <td>2</td>\n",
       "      <td>3.31</td>\n",
       "      <td>2.47</td>\n",
       "    </tr>\n",
       "    <tr>\n",
       "      <th>3</th>\n",
       "      <td>3</td>\n",
       "      <td>4.07</td>\n",
       "      <td>2.77</td>\n",
       "    </tr>\n",
       "    <tr>\n",
       "      <th>4</th>\n",
       "      <td>4</td>\n",
       "      <td>4.62</td>\n",
       "      <td>2.98</td>\n",
       "    </tr>\n",
       "    <tr>\n",
       "      <th>5</th>\n",
       "      <td>5</td>\n",
       "      <td>3.98</td>\n",
       "      <td>3.05</td>\n",
       "    </tr>\n",
       "    <tr>\n",
       "      <th>6</th>\n",
       "      <td>6</td>\n",
       "      <td>4.29</td>\n",
       "      <td>3.18</td>\n",
       "    </tr>\n",
       "    <tr>\n",
       "      <th>7</th>\n",
       "      <td>7</td>\n",
       "      <td>4.83</td>\n",
       "      <td>3.46</td>\n",
       "    </tr>\n",
       "    <tr>\n",
       "      <th>8</th>\n",
       "      <td>8</td>\n",
       "      <td>3.71</td>\n",
       "      <td>3.03</td>\n",
       "    </tr>\n",
       "    <tr>\n",
       "      <th>9</th>\n",
       "      <td>9</td>\n",
       "      <td>4.61</td>\n",
       "      <td>3.25</td>\n",
       "    </tr>\n",
       "    <tr>\n",
       "      <th>10</th>\n",
       "      <td>10</td>\n",
       "      <td>3.90</td>\n",
       "      <td>2.67</td>\n",
       "    </tr>\n",
       "    <tr>\n",
       "      <th>11</th>\n",
       "      <td>11</td>\n",
       "      <td>3.20</td>\n",
       "      <td>2.53</td>\n",
       "    </tr>\n",
       "  </tbody>\n",
       "</table>\n",
       "</div>"
      ],
      "text/plain": [
       "    index  product   use\n",
       "0       0     3.52  2.48\n",
       "1       1     2.58  2.27\n",
       "2       2     3.31  2.47\n",
       "3       3     4.07  2.77\n",
       "4       4     4.62  2.98\n",
       "5       5     3.98  3.05\n",
       "6       6     4.29  3.18\n",
       "7       7     4.83  3.46\n",
       "8       8     3.71  3.03\n",
       "9       9     4.61  3.25\n",
       "10     10     3.90  2.67\n",
       "11     11     3.20  2.53"
      ]
     },
     "execution_count": 2,
     "metadata": {},
     "output_type": "execute_result"
    }
   ],
   "source": [
    "df = pd.read_csv('data/electric.csv') \n",
    "df.columns = ['index','product','use'] \n",
    "df"
   ]
  },
  {
   "cell_type": "code",
   "execution_count": 3,
   "metadata": {},
   "outputs": [],
   "source": [
    "del df['index']"
   ]
  },
  {
   "cell_type": "code",
   "execution_count": 4,
   "metadata": {},
   "outputs": [
    {
     "data": {
      "text/html": [
       "<div>\n",
       "<style scoped>\n",
       "    .dataframe tbody tr th:only-of-type {\n",
       "        vertical-align: middle;\n",
       "    }\n",
       "\n",
       "    .dataframe tbody tr th {\n",
       "        vertical-align: top;\n",
       "    }\n",
       "\n",
       "    .dataframe thead th {\n",
       "        text-align: right;\n",
       "    }\n",
       "</style>\n",
       "<table border=\"1\" class=\"dataframe\">\n",
       "  <thead>\n",
       "    <tr style=\"text-align: right;\">\n",
       "      <th></th>\n",
       "      <th>product</th>\n",
       "      <th>use</th>\n",
       "    </tr>\n",
       "  </thead>\n",
       "  <tbody>\n",
       "    <tr>\n",
       "      <th>0</th>\n",
       "      <td>3.52</td>\n",
       "      <td>2.48</td>\n",
       "    </tr>\n",
       "    <tr>\n",
       "      <th>1</th>\n",
       "      <td>2.58</td>\n",
       "      <td>2.27</td>\n",
       "    </tr>\n",
       "    <tr>\n",
       "      <th>2</th>\n",
       "      <td>3.31</td>\n",
       "      <td>2.47</td>\n",
       "    </tr>\n",
       "    <tr>\n",
       "      <th>3</th>\n",
       "      <td>4.07</td>\n",
       "      <td>2.77</td>\n",
       "    </tr>\n",
       "    <tr>\n",
       "      <th>4</th>\n",
       "      <td>4.62</td>\n",
       "      <td>2.98</td>\n",
       "    </tr>\n",
       "    <tr>\n",
       "      <th>5</th>\n",
       "      <td>3.98</td>\n",
       "      <td>3.05</td>\n",
       "    </tr>\n",
       "    <tr>\n",
       "      <th>6</th>\n",
       "      <td>4.29</td>\n",
       "      <td>3.18</td>\n",
       "    </tr>\n",
       "    <tr>\n",
       "      <th>7</th>\n",
       "      <td>4.83</td>\n",
       "      <td>3.46</td>\n",
       "    </tr>\n",
       "    <tr>\n",
       "      <th>8</th>\n",
       "      <td>3.71</td>\n",
       "      <td>3.03</td>\n",
       "    </tr>\n",
       "    <tr>\n",
       "      <th>9</th>\n",
       "      <td>4.61</td>\n",
       "      <td>3.25</td>\n",
       "    </tr>\n",
       "    <tr>\n",
       "      <th>10</th>\n",
       "      <td>3.90</td>\n",
       "      <td>2.67</td>\n",
       "    </tr>\n",
       "    <tr>\n",
       "      <th>11</th>\n",
       "      <td>3.20</td>\n",
       "      <td>2.53</td>\n",
       "    </tr>\n",
       "  </tbody>\n",
       "</table>\n",
       "</div>"
      ],
      "text/plain": [
       "    product   use\n",
       "0      3.52  2.48\n",
       "1      2.58  2.27\n",
       "2      3.31  2.47\n",
       "3      4.07  2.77\n",
       "4      4.62  2.98\n",
       "5      3.98  3.05\n",
       "6      4.29  3.18\n",
       "7      4.83  3.46\n",
       "8      3.71  3.03\n",
       "9      4.61  3.25\n",
       "10     3.90  2.67\n",
       "11     3.20  2.53"
      ]
     },
     "execution_count": 4,
     "metadata": {},
     "output_type": "execute_result"
    }
   ],
   "source": [
    "df"
   ]
  },
  {
   "cell_type": "code",
   "execution_count": 5,
   "metadata": {},
   "outputs": [
    {
     "data": {
      "text/plain": [
       "<function matplotlib.pyplot.show(*args, **kw)>"
      ]
     },
     "execution_count": 5,
     "metadata": {},
     "output_type": "execute_result"
    },
    {
     "data": {
      "image/png": "[encoded data removed]",
      "text/plain": [
       "<Figure size 432x288 with 1 Axes>"
      ]
     },
     "metadata": {
      "needs_background": "light"
     },
     "output_type": "display_data"
    }
   ],
   "source": [
    "plt.xlabel('product')\n",
    "plt.ylabel('use')\n",
    "plt.scatter(df['product'],df['use']) \n",
    "plt.show"
   ]
  },
  {
   "cell_type": "code",
   "execution_count": 6,
   "metadata": {},
   "outputs": [],
   "source": [
    "x = tf.placeholder(tf.float32) \n",
    "y = tf.constant(df['use'], tf.float32)"
   ]
  },
  {
   "cell_type": "code",
   "execution_count": 7,
   "metadata": {},
   "outputs": [],
   "source": [
    "w = tf.Variable(tf.random_uniform([1])) #랜덤하게 벡터값을 한개 준다\n",
    "b = tf.Variable(tf.random_uniform([1]))"
   ]
  },
  {
   "cell_type": "code",
   "execution_count": 8,
   "metadata": {},
   "outputs": [],
   "source": [
    "hx = w*x + b #예측값\n",
    "cost = tf.reduce_mean(tf.square(hx-y))"
   ]
  },
  {
   "cell_type": "code",
   "execution_count": 9,
   "metadata": {},
   "outputs": [],
   "source": [
    "optimizer = tf.train.GradientDescentOptimizer(0.001) #Learning rate\n",
    "train = optimizer.minimize(cost)"
   ]
  },
  {
   "cell_type": "code",
   "execution_count": 10,
   "metadata": {},
   "outputs": [],
   "source": [
    "sess = tf.Session()\n",
    "init = tf.global_variables_initializer()\n",
    "sess.run(init)"
   ]
  },
  {
   "cell_type": "code",
   "execution_count": 11,
   "metadata": {},
   "outputs": [
    {
     "name": "stdout",
     "output_type": "stream",
     "text": [
      "0 0.07985059\n",
      "100 0.04423287\n",
      "200 0.044003915\n",
      "300 0.043820333\n",
      "400 0.043638628\n",
      "500 0.04345865\n",
      "600 0.04328044\n",
      "700 0.043103974\n",
      "800 0.042929206\n",
      "900 0.042756166\n",
      "1000 0.042584807\n",
      "1100 0.042415082\n",
      "1200 0.042247046\n",
      "1300 0.04208064\n",
      "1400 0.041915834\n",
      "1500 0.041752636\n",
      "1600 0.041591045\n",
      "1700 0.041431017\n",
      "1800 0.041272536\n",
      "1900 0.041115586\n",
      "2000 0.040960204\n",
      "2100 0.040806346\n",
      "2200 0.040653933\n",
      "2300 0.040503025\n",
      "2400 0.040353585\n",
      "2500 0.0402056\n",
      "2600 0.040059045\n",
      "2700 0.03991394\n",
      "2800 0.039770223\n",
      "2900 0.03962793\n",
      "3000 0.039487004\n",
      "3100 0.039347455\n",
      "3200 0.039209258\n",
      "3300 0.03907241\n",
      "3400 0.038936898\n",
      "3500 0.038802702\n",
      "3600 0.038669813\n",
      "3700 0.03853821\n",
      "3800 0.03840791\n",
      "3900 0.038278837\n",
      "4000 0.03815106\n",
      "4100 0.03802452\n",
      "4200 0.037899196\n",
      "4300 0.0377751\n",
      "4400 0.037652224\n",
      "4500 0.037530515\n",
      "4600 0.03741\n",
      "4700 0.03729068\n",
      "4800 0.037172507\n",
      "4900 0.037055466\n",
      "5000 0.036939595\n",
      "5100 0.036824834\n",
      "5200 0.03671119\n",
      "5300 0.036598664\n",
      "5400 0.036487225\n",
      "5500 0.036376875\n",
      "5600 0.03626761\n",
      "5700 0.036159378\n",
      "5800 0.0360522\n",
      "5900 0.03594609\n",
      "6000 0.035840984\n",
      "6100 0.035736945\n",
      "6200 0.035633903\n",
      "6300 0.035531845\n",
      "6400 0.035430808\n",
      "6500 0.035330728\n",
      "6600 0.035231605\n",
      "6700 0.035133485\n",
      "6800 0.035036303\n",
      "6900 0.034940075\n",
      "7000 0.03484479\n",
      "7100 0.03475042\n",
      "7200 0.034656946\n",
      "7300 0.03456443\n",
      "7400 0.03447278\n",
      "7500 0.03438204\n",
      "7600 0.034292176\n",
      "7700 0.034203175\n",
      "7800 0.03411507\n",
      "7900 0.034027796\n",
      "8000 0.033941388\n",
      "8100 0.0338558\n",
      "8200 0.03377107\n",
      "8300 0.03368715\n",
      "8400 0.03360403\n",
      "8500 0.03352176\n",
      "8600 0.03344025\n",
      "8700 0.033359572\n",
      "8800 0.03327966\n",
      "8900 0.03320051\n",
      "9000 0.03312215\n",
      "9100 0.033044543\n",
      "9200 0.032967713\n",
      "9300 0.032891598\n",
      "9400 0.03281625\n",
      "9500 0.032741617\n",
      "9600 0.032667723\n",
      "9700 0.032594547\n",
      "9800 0.03252204\n",
      "9900 0.032450292\n"
     ]
    }
   ],
   "source": [
    "for i in range(10000):\n",
    "    sess.run(train,{x:df['product']}) \n",
    "    if i%100==0:\n",
    "        print(i,sess.run(cost,{x:df['product']}))"
   ]
  },
  {
   "cell_type": "code",
   "execution_count": 12,
   "metadata": {},
   "outputs": [
    {
     "data": {
      "text/plain": [
       "array([0.62804925], dtype=float32)"
      ]
     },
     "execution_count": 12,
     "metadata": {},
     "output_type": "execute_result"
    }
   ],
   "source": [
    "sess.run(w)"
   ]
  },
  {
   "cell_type": "code",
   "execution_count": 13,
   "metadata": {},
   "outputs": [
    {
     "data": {
      "text/plain": [
       "array([0.39213172], dtype=float32)"
      ]
     },
     "execution_count": 13,
     "metadata": {},
     "output_type": "execute_result"
    }
   ],
   "source": [
    "sess.run(b)"
   ]
  },
  {
   "cell_type": "code",
   "execution_count": 14,
   "metadata": {},
   "outputs": [
    {
     "data": {
      "text/plain": [
       "array([25.514103], dtype=float32)"
      ]
     },
     "execution_count": 14,
     "metadata": {},
     "output_type": "execute_result"
    }
   ],
   "source": [
    "sess.run(hx,{x:40})"
   ]
  },
  {
   "cell_type": "code",
   "execution_count": 16,
   "metadata": {},
   "outputs": [
    {
     "data": {
      "text/plain": [
       "<function matplotlib.pyplot.show(*args, **kw)>"
      ]
     },
     "execution_count": 16,
     "metadata": {},
     "output_type": "execute_result"
    },
    {
     "data": {
      "image/png": "[encoded data removed]",
      "text/plain": [
       "<Figure size 432x288 with 1 Axes>"
      ]
     },
     "metadata": {
      "needs_background": "light"
     },
     "output_type": "display_data"
    }
   ],
   "source": [
    "plt.xlabel('product')\n",
    "plt.ylabel('use')\n",
    "plt.scatter(df['product'],df['use']) \n",
    "plt.xlabel('product')\n",
    "plt.ylabel('hx')\n",
    "plt.plot(df['product'],sess.run(hx,{x:df['product']}),'r--') \n",
    "plt.show"
   ]
  },
  {
   "cell_type": "code",
   "execution_count": null,
   "metadata": {},
   "outputs": [],
   "source": []
  }
 ],
 "metadata": {
  "kernelspec": {
   "display_name": "Python 3",
   "language": "python",
   "name": "python3"
  },
  "language_info": {
   "codemirror_mode": {
    "name": "ipython",
    "version": 3
   },
   "file_extension": ".py",
   "mimetype": "text/x-python",
   "name": "python",
   "nbconvert_exporter": "python",
   "pygments_lexer": "ipython3",
   "version": "3.7.6"
  }
 },
 "nbformat": 4,
 "nbformat_minor": 4
}
