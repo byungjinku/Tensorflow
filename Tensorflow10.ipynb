{
 "cells": [
  {
   "cell_type": "code",
   "execution_count": 1,
   "metadata": {},
   "outputs": [],
   "source": [
    "import tensorflow as tf"
   ]
  },
  {
   "cell_type": "code",
   "execution_count": 2,
   "metadata": {},
   "outputs": [],
   "source": [
    "#1<= n <7 1 ~ 6 까지...\n",
    "x = tf.random_uniform([10,1], minval=1, maxval=7, dtype=tf.int32)"
   ]
  },
  {
   "cell_type": "code",
   "execution_count": 3,
   "metadata": {},
   "outputs": [],
   "source": [
    "sess = tf.Session()"
   ]
  },
  {
   "cell_type": "code",
   "execution_count": 4,
   "metadata": {},
   "outputs": [
    {
     "data": {
      "text/plain": [
       "array([[6],\n",
       "       [1],\n",
       "       [4],\n",
       "       [2],\n",
       "       [5],\n",
       "       [2],\n",
       "       [6],\n",
       "       [5],\n",
       "       [3],\n",
       "       [1]])"
      ]
     },
     "execution_count": 4,
     "metadata": {},
     "output_type": "execute_result"
    }
   ],
   "source": [
    "sess.run(x)"
   ]
  },
  {
   "cell_type": "code",
   "execution_count": 6,
   "metadata": {},
   "outputs": [],
   "source": [
    "c = tf.constant( [[1],[2]]) #2x1\n",
    "d = tf.constant( [[3],[4]])\n",
    "# r = tf.concat( [c,d] ,axis=0) #행으로 결합\n",
    "r = tf.concat( [c,d] ,axis=1) #열로 결합"
   ]
  },
  {
   "cell_type": "code",
   "execution_count": 7,
   "metadata": {},
   "outputs": [
    {
     "data": {
      "text/plain": [
       "array([[1, 3],\n",
       "       [2, 4]])"
      ]
     },
     "execution_count": 7,
     "metadata": {},
     "output_type": "execute_result"
    }
   ],
   "source": [
    "sess.run(r)"
   ]
  },
  {
   "cell_type": "code",
   "execution_count": null,
   "metadata": {},
   "outputs": [],
   "source": [
    "# 주사위 2개를 10번굴리기를 시행 했을때 \n",
    "# 10x3 매트릭스 텐서를 생성하시요\n",
    "# 1열과 2열은 주사위를 시행했을 때 값이며 \n",
    "# 3열은 두개열의 합으로 구성된다."
   ]
  },
  {
   "cell_type": "code",
   "execution_count": 15,
   "metadata": {},
   "outputs": [],
   "source": [
    "d1 = tf.random_uniform([10,1], minval=1, maxval=7, dtype=tf.int32)\n",
    "d2 = tf.random_uniform([10,1], minval=1, maxval=7, dtype=tf.int32)\n",
    "dsum = tf.add(x,y)"
   ]
  },
  {
   "cell_type": "code",
   "execution_count": 16,
   "metadata": {},
   "outputs": [],
   "source": [
    "result = tf.concat([d1,d2,dsum], axis=1)"
   ]
  },
  {
   "cell_type": "code",
   "execution_count": 18,
   "metadata": {},
   "outputs": [
    {
     "data": {
      "text/plain": [
       "array([[ 5,  1,  4],\n",
       "       [ 2,  6, 11],\n",
       "       [ 2,  6,  6],\n",
       "       [ 6,  6, 10],\n",
       "       [ 2,  2,  6],\n",
       "       [ 3,  6,  7],\n",
       "       [ 3,  4,  6],\n",
       "       [ 4,  6,  6],\n",
       "       [ 4,  5,  3],\n",
       "       [ 5,  1,  5]])"
      ]
     },
     "execution_count": 18,
     "metadata": {},
     "output_type": "execute_result"
    }
   ],
   "source": [
    "sess.run(result)"
   ]
  },
  {
   "cell_type": "code",
   "execution_count": null,
   "metadata": {},
   "outputs": [],
   "source": []
  }
 ],
 "metadata": {
  "kernelspec": {
   "display_name": "Python 3",
   "language": "python",
   "name": "python3"
  },
  "language_info": {
   "codemirror_mode": {
    "name": "ipython",
    "version": 3
   },
   "file_extension": ".py",
   "mimetype": "text/x-python",
   "name": "python",
   "nbconvert_exporter": "python",
   "pygments_lexer": "ipython3",
   "version": "3.7.6"
  }
 },
 "nbformat": 4,
 "nbformat_minor": 4
}
