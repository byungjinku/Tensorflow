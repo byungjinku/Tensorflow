{
 "cells": [
  {
   "cell_type": "code",
   "execution_count": 1,
   "metadata": {},
   "outputs": [],
   "source": [
    "import tensorflow as tf\n",
    "import numpy as np\n",
    "import pandas as pd\n",
    "from tensorflow.keras.layers import Dense\n",
    "from tensorflow.keras import Sequential\n",
    "from tensorflow.keras.optimizers import Adam\n",
    "\n",
    "from tensorflow.keras.utils import to_categorical #session이 필요 없기 때문에 이걸 쓰면 된다. 굳이 one-hot으로 변경 안해도 된다.\n",
    "from sklearn import datasets, model_selection\n",
    "from tensorflow.examples.tutorials.mnist import input_data\n",
    "# from tensorflow.keras.backend import one_hot #session run이 필요하다. \n",
    "from tensorflow.keras.utils import to_categorical #session이 필요 없기 때문에 이걸 쓰면 된다. 굳이 one-hot으로 변경 안해도 된다.\n",
    "import matplotlib.pyplot as plt"
   ]
  },
  {
   "cell_type": "code",
   "execution_count": 2,
   "metadata": {},
   "outputs": [
    {
     "name": "stdout",
     "output_type": "stream",
     "text": [
      "WARNING:tensorflow:From <ipython-input-2-71e12f4bac70>:1: read_data_sets (from tensorflow.contrib.learn.python.learn.datasets.mnist) is deprecated and will be removed in a future version.\n",
      "Instructions for updating:\n",
      "Please use alternatives such as official/mnist/dataset.py from tensorflow/models.\n",
      "WARNING:tensorflow:From C:\\Users\\user\\anaconda3\\lib\\site-packages\\tensorflow_core\\contrib\\learn\\python\\learn\\datasets\\mnist.py:260: maybe_download (from tensorflow.contrib.learn.python.learn.datasets.base) is deprecated and will be removed in a future version.\n",
      "Instructions for updating:\n",
      "Please write your own downloading logic.\n",
      "WARNING:tensorflow:From C:\\Users\\user\\anaconda3\\lib\\site-packages\\tensorflow_core\\contrib\\learn\\python\\learn\\datasets\\mnist.py:262: extract_images (from tensorflow.contrib.learn.python.learn.datasets.mnist) is deprecated and will be removed in a future version.\n",
      "Instructions for updating:\n",
      "Please use tf.data to implement this functionality.\n",
      "Extracting MNIST_data\\train-images-idx3-ubyte.gz\n",
      "WARNING:tensorflow:From C:\\Users\\user\\anaconda3\\lib\\site-packages\\tensorflow_core\\contrib\\learn\\python\\learn\\datasets\\mnist.py:267: extract_labels (from tensorflow.contrib.learn.python.learn.datasets.mnist) is deprecated and will be removed in a future version.\n",
      "Instructions for updating:\n",
      "Please use tf.data to implement this functionality.\n",
      "Extracting MNIST_data\\train-labels-idx1-ubyte.gz\n",
      "WARNING:tensorflow:From C:\\Users\\user\\anaconda3\\lib\\site-packages\\tensorflow_core\\contrib\\learn\\python\\learn\\datasets\\mnist.py:110: dense_to_one_hot (from tensorflow.contrib.learn.python.learn.datasets.mnist) is deprecated and will be removed in a future version.\n",
      "Instructions for updating:\n",
      "Please use tf.one_hot on tensors.\n",
      "Extracting MNIST_data\\t10k-images-idx3-ubyte.gz\n",
      "Extracting MNIST_data\\t10k-labels-idx1-ubyte.gz\n",
      "WARNING:tensorflow:From C:\\Users\\user\\anaconda3\\lib\\site-packages\\tensorflow_core\\contrib\\learn\\python\\learn\\datasets\\mnist.py:290: DataSet.__init__ (from tensorflow.contrib.learn.python.learn.datasets.mnist) is deprecated and will be removed in a future version.\n",
      "Instructions for updating:\n",
      "Please use alternatives such as official/mnist/dataset.py from tensorflow/models.\n"
     ]
    }
   ],
   "source": [
    "mnist = input_data.read_data_sets('MNIST_data', one_hot=True)"
   ]
  },
  {
   "cell_type": "code",
   "execution_count": 3,
   "metadata": {},
   "outputs": [],
   "source": [
    "x_train = mnist.train.images\n",
    "x_test = mnist.test.images\n",
    "y_train = mnist.train.labels\n",
    "y_test = mnist.test.labels"
   ]
  },
  {
   "cell_type": "code",
   "execution_count": 4,
   "metadata": {},
   "outputs": [
    {
     "name": "stdout",
     "output_type": "stream",
     "text": [
      "WARNING:tensorflow:From C:\\Users\\user\\anaconda3\\lib\\site-packages\\tensorflow_core\\python\\ops\\resource_variable_ops.py:1630: calling BaseResourceVariable.__init__ (from tensorflow.python.ops.resource_variable_ops) with constraint is deprecated and will be removed in a future version.\n",
      "Instructions for updating:\n",
      "If using Keras pass *_constraint arguments to layers.\n",
      "Train on 55000 samples\n",
      "Epoch 1/50\n",
      "55000/55000 [==============================] - 4s 80us/sample - loss: 0.2804 - acc: 0.9202\n",
      "Epoch 2/50\n",
      "55000/55000 [==============================] - 4s 79us/sample - loss: 0.1277 - acc: 0.9629\n",
      "Epoch 3/50\n",
      "55000/55000 [==============================] - 4s 79us/sample - loss: 0.0897 - acc: 0.9734\n",
      "Epoch 4/50\n",
      "55000/55000 [==============================] - 4s 80us/sample - loss: 0.0680 - acc: 0.9792\n",
      "Epoch 5/50\n",
      "55000/55000 [==============================] - 4s 78us/sample - loss: 0.0545 - acc: 0.9828\n",
      "Epoch 6/50\n",
      "55000/55000 [==============================] - 4s 78us/sample - loss: 0.0440 - acc: 0.9860\n",
      "Epoch 7/50\n",
      "55000/55000 [==============================] - 4s 79us/sample - loss: 0.0357 - acc: 0.9887\n",
      "Epoch 8/50\n",
      "55000/55000 [==============================] - 4s 78us/sample - loss: 0.0291 - acc: 0.9912\n",
      "Epoch 9/50\n",
      "55000/55000 [==============================] - 4s 79us/sample - loss: 0.0237 - acc: 0.9929\n",
      "Epoch 10/50\n",
      "55000/55000 [==============================] - 4s 80us/sample - loss: 0.0207 - acc: 0.9936\n",
      "Epoch 11/50\n",
      "55000/55000 [==============================] - 4s 79us/sample - loss: 0.0173 - acc: 0.9948\n",
      "Epoch 12/50\n",
      "55000/55000 [==============================] - 4s 78us/sample - loss: 0.0145 - acc: 0.9959\n",
      "Epoch 13/50\n",
      "55000/55000 [==============================] - 4s 79us/sample - loss: 0.0127 - acc: 0.9964\n",
      "Epoch 14/50\n",
      "55000/55000 [==============================] - 4s 80us/sample - loss: 0.0123 - acc: 0.9961\n",
      "Epoch 15/50\n",
      "55000/55000 [==============================] - 4s 79us/sample - loss: 0.0092 - acc: 0.9974\n",
      "Epoch 16/50\n",
      "55000/55000 [==============================] - 4s 78us/sample - loss: 0.0091 - acc: 0.9972\n",
      "Epoch 17/50\n",
      "55000/55000 [==============================] - 4s 78us/sample - loss: 0.0071 - acc: 0.9980\n",
      "Epoch 18/50\n",
      "55000/55000 [==============================] - 4s 78us/sample - loss: 0.0068 - acc: 0.9980\n",
      "Epoch 19/50\n",
      "55000/55000 [==============================] - 4s 78us/sample - loss: 0.0066 - acc: 0.9979\n",
      "Epoch 20/50\n",
      "55000/55000 [==============================] - 4s 78us/sample - loss: 0.0055 - acc: 0.9983\n",
      "Epoch 21/50\n",
      "55000/55000 [==============================] - 4s 78us/sample - loss: 0.0063 - acc: 0.9983\n",
      "Epoch 22/50\n",
      "55000/55000 [==============================] - 4s 78us/sample - loss: 0.0055 - acc: 0.9984\n",
      "Epoch 23/50\n",
      "55000/55000 [==============================] - 4s 78us/sample - loss: 0.0040 - acc: 0.9989\n",
      "Epoch 24/50\n",
      "55000/55000 [==============================] - 4s 81us/sample - loss: 0.0060 - acc: 0.9982\n",
      "Epoch 25/50\n",
      "55000/55000 [==============================] - 4s 80us/sample - loss: 0.0035 - acc: 0.9989\n",
      "Epoch 26/50\n",
      "55000/55000 [==============================] - 4s 78us/sample - loss: 0.0047 - acc: 0.9985\n",
      "Epoch 27/50\n",
      "55000/55000 [==============================] - 4s 79us/sample - loss: 0.0035 - acc: 0.9989\n",
      "Epoch 28/50\n",
      "55000/55000 [==============================] - 4s 79us/sample - loss: 0.0049 - acc: 0.9985\n",
      "Epoch 29/50\n",
      "55000/55000 [==============================] - 4s 79us/sample - loss: 0.0034 - acc: 0.9990\n",
      "Epoch 30/50\n",
      "55000/55000 [==============================] - 4s 80us/sample - loss: 0.0039 - acc: 0.9989\n",
      "Epoch 31/50\n",
      "55000/55000 [==============================] - 4s 79us/sample - loss: 0.0036 - acc: 0.9988\n",
      "Epoch 32/50\n",
      "55000/55000 [==============================] - 4s 80us/sample - loss: 0.0041 - acc: 0.9987\n",
      "Epoch 33/50\n",
      "55000/55000 [==============================] - 4s 79us/sample - loss: 0.0035 - acc: 0.9990\n",
      "Epoch 34/50\n",
      "55000/55000 [==============================] - 4s 80us/sample - loss: 0.0033 - acc: 0.9988\n",
      "Epoch 35/50\n",
      "55000/55000 [==============================] - 4s 80us/sample - loss: 0.0034 - acc: 0.9989\n",
      "Epoch 36/50\n",
      "55000/55000 [==============================] - 4s 80us/sample - loss: 0.0036 - acc: 0.9989\n",
      "Epoch 37/50\n",
      "55000/55000 [==============================] - 4s 80us/sample - loss: 0.0019 - acc: 0.9997\n",
      "Epoch 38/50\n",
      "55000/55000 [==============================] - 5s 85us/sample - loss: 0.0051 - acc: 0.9985\n",
      "Epoch 39/50\n",
      "55000/55000 [==============================] - 4s 81us/sample - loss: 0.0036 - acc: 0.9987\n",
      "Epoch 40/50\n",
      "55000/55000 [==============================] - 4s 79us/sample - loss: 0.0026 - acc: 0.9992\n",
      "Epoch 41/50\n",
      "55000/55000 [==============================] - 4s 79us/sample - loss: 0.0024 - acc: 0.9992\n",
      "Epoch 42/50\n",
      "55000/55000 [==============================] - 4s 80us/sample - loss: 0.0049 - acc: 0.99861s - loss: 0.005 - ETA: 1s - loss:\n",
      "Epoch 43/50\n",
      "55000/55000 [==============================] - 4s 80us/sample - loss: 0.0023 - acc: 0.99930s - loss: 0.0023 - acc: 0.9\n",
      "Epoch 44/50\n",
      "55000/55000 [==============================] - 4s 80us/sample - loss: 0.0028 - acc: 0.9991\n",
      "Epoch 45/50\n",
      "55000/55000 [==============================] - 4s 80us/sample - loss: 0.0027 - acc: 0.9990\n",
      "Epoch 46/50\n",
      "55000/55000 [==============================] - 4s 79us/sample - loss: 0.0017 - acc: 0.9994\n",
      "Epoch 47/50\n",
      "55000/55000 [==============================] - 4s 81us/sample - loss: 0.0038 - acc: 0.9988\n",
      "Epoch 48/50\n",
      "55000/55000 [==============================] - 4s 79us/sample - loss: 0.0023 - acc: 0.9992\n",
      "Epoch 49/50\n",
      "55000/55000 [==============================] - 4s 80us/sample - loss: 0.0031 - acc: 0.9991\n",
      "Epoch 50/50\n",
      "55000/55000 [==============================] - 4s 81us/sample - loss: 0.0028 - acc: 0.9991\n"
     ]
    }
   ],
   "source": [
    "model = Sequential()\n",
    "model.add(Dense(units=100, input_dim=784,activation='relu'))\n",
    "model.add(Dense(units=10, input_dim=100,activation='softmax'))\n",
    "model.compile( loss='categorical_crossentropy', optimizer=\"adam\",metrics=['accuracy'])  \n",
    "h = model.fit(x_train, y_train, epochs=50)\n",
    "#아무리 training 시켜도 0110값 안나온다. "
   ]
  },
  {
   "cell_type": "code",
   "execution_count": 5,
   "metadata": {},
   "outputs": [
    {
     "data": {
      "text/plain": [
       "array([7, 3, 4, ..., 5, 6, 8], dtype=int64)"
      ]
     },
     "execution_count": 5,
     "metadata": {},
     "output_type": "execute_result"
    }
   ],
   "source": [
    "model.predict_classes(x_train)"
   ]
  },
  {
   "cell_type": "code",
   "execution_count": 6,
   "metadata": {},
   "outputs": [
    {
     "data": {
      "text/plain": [
       "array([[0.        , 0.        , 0.        , 0.        , 0.        ,\n",
       "        0.        , 0.        , 0.        , 0.        , 0.        ,\n",
       "        0.        , 0.        , 0.        , 0.        , 0.        ,\n",
       "        0.        , 0.        , 0.        , 0.        , 0.        ,\n",
       "        0.        , 0.        , 0.        , 0.        , 0.        ,\n",
       "        0.        , 0.        , 0.        ],\n",
       "       [0.        , 0.        , 0.        , 0.        , 0.        ,\n",
       "        0.        , 0.        , 0.        , 0.        , 0.        ,\n",
       "        0.        , 0.        , 0.        , 0.        , 0.        ,\n",
       "        0.        , 0.        , 0.        , 0.        , 0.        ,\n",
       "        0.        , 0.        , 0.        , 0.        , 0.        ,\n",
       "        0.        , 0.        , 0.        ],\n",
       "       [0.        , 0.        , 0.        , 0.        , 0.        ,\n",
       "        0.        , 0.        , 0.        , 0.        , 0.        ,\n",
       "        0.        , 0.        , 0.        , 0.        , 0.        ,\n",
       "        0.        , 0.        , 0.        , 0.        , 0.        ,\n",
       "        0.        , 0.        , 0.        , 0.        , 0.        ,\n",
       "        0.        , 0.        , 0.        ],\n",
       "       [0.        , 0.        , 0.        , 0.        , 0.        ,\n",
       "        0.        , 0.        , 0.        , 0.        , 0.        ,\n",
       "        0.        , 0.        , 0.        , 0.        , 0.        ,\n",
       "        0.        , 0.        , 0.        , 0.        , 0.        ,\n",
       "        0.        , 0.        , 0.        , 0.        , 0.        ,\n",
       "        0.        , 0.        , 0.        ],\n",
       "       [0.        , 0.        , 0.        , 0.        , 0.        ,\n",
       "        0.        , 0.        , 0.        , 0.        , 0.        ,\n",
       "        0.        , 0.        , 0.        , 0.        , 0.        ,\n",
       "        0.        , 0.        , 0.        , 0.        , 0.        ,\n",
       "        0.        , 0.        , 0.        , 0.        , 0.        ,\n",
       "        0.        , 0.        , 0.        ],\n",
       "       [0.        , 0.        , 0.        , 0.        , 0.        ,\n",
       "        0.        , 0.        , 0.        , 0.        , 0.        ,\n",
       "        0.        , 0.        , 0.        , 0.        , 0.        ,\n",
       "        0.        , 0.        , 0.        , 0.        , 0.        ,\n",
       "        0.        , 0.        , 0.        , 0.        , 0.        ,\n",
       "        0.        , 0.        , 0.        ],\n",
       "       [0.        , 0.        , 0.        , 0.        , 0.        ,\n",
       "        0.        , 0.        , 0.        , 0.        , 0.        ,\n",
       "        0.        , 0.        , 0.        , 0.        , 0.        ,\n",
       "        0.        , 0.        , 0.        , 0.        , 0.        ,\n",
       "        0.        , 0.        , 0.        , 0.        , 0.        ,\n",
       "        0.        , 0.        , 0.        ],\n",
       "       [0.        , 0.        , 0.        , 0.        , 0.        ,\n",
       "        0.        , 0.32941177, 0.7254902 , 0.62352943, 0.5921569 ,\n",
       "        0.23529413, 0.14117648, 0.        , 0.        , 0.        ,\n",
       "        0.        , 0.        , 0.        , 0.        , 0.        ,\n",
       "        0.        , 0.        , 0.        , 0.        , 0.        ,\n",
       "        0.        , 0.        , 0.        ],\n",
       "       [0.        , 0.        , 0.        , 0.        , 0.        ,\n",
       "        0.        , 0.8705883 , 0.9960785 , 0.9960785 , 0.9960785 ,\n",
       "        0.9960785 , 0.9450981 , 0.77647066, 0.77647066, 0.77647066,\n",
       "        0.77647066, 0.77647066, 0.77647066, 0.77647066, 0.77647066,\n",
       "        0.6666667 , 0.20392159, 0.        , 0.        , 0.        ,\n",
       "        0.        , 0.        , 0.        ],\n",
       "       [0.        , 0.        , 0.        , 0.        , 0.        ,\n",
       "        0.        , 0.2627451 , 0.44705886, 0.28235295, 0.44705886,\n",
       "        0.6392157 , 0.89019614, 0.9960785 , 0.882353  , 0.9960785 ,\n",
       "        0.9960785 , 0.9960785 , 0.9803922 , 0.8980393 , 0.9960785 ,\n",
       "        0.9960785 , 0.54901963, 0.        , 0.        , 0.        ,\n",
       "        0.        , 0.        , 0.        ],\n",
       "       [0.        , 0.        , 0.        , 0.        , 0.        ,\n",
       "        0.        , 0.        , 0.        , 0.        , 0.        ,\n",
       "        0.        , 0.06666667, 0.25882354, 0.05490196, 0.2627451 ,\n",
       "        0.2627451 , 0.2627451 , 0.23137257, 0.08235294, 0.92549026,\n",
       "        0.9960785 , 0.4156863 , 0.        , 0.        , 0.        ,\n",
       "        0.        , 0.        , 0.        ],\n",
       "       [0.        , 0.        , 0.        , 0.        , 0.        ,\n",
       "        0.        , 0.        , 0.        , 0.        , 0.        ,\n",
       "        0.        , 0.        , 0.        , 0.        , 0.        ,\n",
       "        0.        , 0.        , 0.        , 0.3254902 , 0.9921569 ,\n",
       "        0.8196079 , 0.07058824, 0.        , 0.        , 0.        ,\n",
       "        0.        , 0.        , 0.        ],\n",
       "       [0.        , 0.        , 0.        , 0.        , 0.        ,\n",
       "        0.        , 0.        , 0.        , 0.        , 0.        ,\n",
       "        0.        , 0.        , 0.        , 0.        , 0.        ,\n",
       "        0.        , 0.        , 0.08627451, 0.91372555, 1.        ,\n",
       "        0.3254902 , 0.        , 0.        , 0.        , 0.        ,\n",
       "        0.        , 0.        , 0.        ],\n",
       "       [0.        , 0.        , 0.        , 0.        , 0.        ,\n",
       "        0.        , 0.        , 0.        , 0.        , 0.        ,\n",
       "        0.        , 0.        , 0.        , 0.        , 0.        ,\n",
       "        0.        , 0.        , 0.5058824 , 0.9960785 , 0.9333334 ,\n",
       "        0.17254902, 0.        , 0.        , 0.        , 0.        ,\n",
       "        0.        , 0.        , 0.        ],\n",
       "       [0.        , 0.        , 0.        , 0.        , 0.        ,\n",
       "        0.        , 0.        , 0.        , 0.        , 0.        ,\n",
       "        0.        , 0.        , 0.        , 0.        , 0.        ,\n",
       "        0.        , 0.23137257, 0.97647065, 0.9960785 , 0.24313727,\n",
       "        0.        , 0.        , 0.        , 0.        , 0.        ,\n",
       "        0.        , 0.        , 0.        ],\n",
       "       [0.        , 0.        , 0.        , 0.        , 0.        ,\n",
       "        0.        , 0.        , 0.        , 0.        , 0.        ,\n",
       "        0.        , 0.        , 0.        , 0.        , 0.        ,\n",
       "        0.        , 0.52156866, 0.9960785 , 0.73333335, 0.01960784,\n",
       "        0.        , 0.        , 0.        , 0.        , 0.        ,\n",
       "        0.        , 0.        , 0.        ],\n",
       "       [0.        , 0.        , 0.        , 0.        , 0.        ,\n",
       "        0.        , 0.        , 0.        , 0.        , 0.        ,\n",
       "        0.        , 0.        , 0.        , 0.        , 0.        ,\n",
       "        0.03529412, 0.80392164, 0.9725491 , 0.227451  , 0.        ,\n",
       "        0.        , 0.        , 0.        , 0.        , 0.        ,\n",
       "        0.        , 0.        , 0.        ],\n",
       "       [0.        , 0.        , 0.        , 0.        , 0.        ,\n",
       "        0.        , 0.        , 0.        , 0.        , 0.        ,\n",
       "        0.        , 0.        , 0.        , 0.        , 0.        ,\n",
       "        0.49411768, 0.9960785 , 0.7137255 , 0.        , 0.        ,\n",
       "        0.        , 0.        , 0.        , 0.        , 0.        ,\n",
       "        0.        , 0.        , 0.        ],\n",
       "       [0.        , 0.        , 0.        , 0.        , 0.        ,\n",
       "        0.        , 0.        , 0.        , 0.        , 0.        ,\n",
       "        0.        , 0.        , 0.        , 0.        , 0.29411766,\n",
       "        0.9843138 , 0.94117653, 0.22352943, 0.        , 0.        ,\n",
       "        0.        , 0.        , 0.        , 0.        , 0.        ,\n",
       "        0.        , 0.        , 0.        ],\n",
       "       [0.        , 0.        , 0.        , 0.        , 0.        ,\n",
       "        0.        , 0.        , 0.        , 0.        , 0.        ,\n",
       "        0.        , 0.        , 0.        , 0.07450981, 0.86666673,\n",
       "        0.9960785 , 0.6509804 , 0.        , 0.        , 0.        ,\n",
       "        0.        , 0.        , 0.        , 0.        , 0.        ,\n",
       "        0.        , 0.        , 0.        ],\n",
       "       [0.        , 0.        , 0.        , 0.        , 0.        ,\n",
       "        0.        , 0.        , 0.        , 0.        , 0.        ,\n",
       "        0.        , 0.        , 0.01176471, 0.7960785 , 0.9960785 ,\n",
       "        0.8588236 , 0.13725491, 0.        , 0.        , 0.        ,\n",
       "        0.        , 0.        , 0.        , 0.        , 0.        ,\n",
       "        0.        , 0.        , 0.        ],\n",
       "       [0.        , 0.        , 0.        , 0.        , 0.        ,\n",
       "        0.        , 0.        , 0.        , 0.        , 0.        ,\n",
       "        0.        , 0.        , 0.14901961, 0.9960785 , 0.9960785 ,\n",
       "        0.3019608 , 0.        , 0.        , 0.        , 0.        ,\n",
       "        0.        , 0.        , 0.        , 0.        , 0.        ,\n",
       "        0.        , 0.        , 0.        ],\n",
       "       [0.        , 0.        , 0.        , 0.        , 0.        ,\n",
       "        0.        , 0.        , 0.        , 0.        , 0.        ,\n",
       "        0.        , 0.12156864, 0.87843144, 0.9960785 , 0.45098042,\n",
       "        0.00392157, 0.        , 0.        , 0.        , 0.        ,\n",
       "        0.        , 0.        , 0.        , 0.        , 0.        ,\n",
       "        0.        , 0.        , 0.        ],\n",
       "       [0.        , 0.        , 0.        , 0.        , 0.        ,\n",
       "        0.        , 0.        , 0.        , 0.        , 0.        ,\n",
       "        0.        , 0.52156866, 0.9960785 , 0.9960785 , 0.20392159,\n",
       "        0.        , 0.        , 0.        , 0.        , 0.        ,\n",
       "        0.        , 0.        , 0.        , 0.        , 0.        ,\n",
       "        0.        , 0.        , 0.        ],\n",
       "       [0.        , 0.        , 0.        , 0.        , 0.        ,\n",
       "        0.        , 0.        , 0.        , 0.        , 0.        ,\n",
       "        0.2392157 , 0.9490197 , 0.9960785 , 0.9960785 , 0.20392159,\n",
       "        0.        , 0.        , 0.        , 0.        , 0.        ,\n",
       "        0.        , 0.        , 0.        , 0.        , 0.        ,\n",
       "        0.        , 0.        , 0.        ],\n",
       "       [0.        , 0.        , 0.        , 0.        , 0.        ,\n",
       "        0.        , 0.        , 0.        , 0.        , 0.        ,\n",
       "        0.47450984, 0.9960785 , 0.9960785 , 0.8588236 , 0.15686275,\n",
       "        0.        , 0.        , 0.        , 0.        , 0.        ,\n",
       "        0.        , 0.        , 0.        , 0.        , 0.        ,\n",
       "        0.        , 0.        , 0.        ],\n",
       "       [0.        , 0.        , 0.        , 0.        , 0.        ,\n",
       "        0.        , 0.        , 0.        , 0.        , 0.        ,\n",
       "        0.47450984, 0.9960785 , 0.8117648 , 0.07058824, 0.        ,\n",
       "        0.        , 0.        , 0.        , 0.        , 0.        ,\n",
       "        0.        , 0.        , 0.        , 0.        , 0.        ,\n",
       "        0.        , 0.        , 0.        ],\n",
       "       [0.        , 0.        , 0.        , 0.        , 0.        ,\n",
       "        0.        , 0.        , 0.        , 0.        , 0.        ,\n",
       "        0.        , 0.        , 0.        , 0.        , 0.        ,\n",
       "        0.        , 0.        , 0.        , 0.        , 0.        ,\n",
       "        0.        , 0.        , 0.        , 0.        , 0.        ,\n",
       "        0.        , 0.        , 0.        ]], dtype=float32)"
      ]
     },
     "execution_count": 6,
     "metadata": {},
     "output_type": "execute_result"
    }
   ],
   "source": [
    "x_test[0].reshape(28,28)"
   ]
  },
  {
   "cell_type": "code",
   "execution_count": 7,
   "metadata": {},
   "outputs": [
    {
     "data": {
      "text/plain": [
       "<function matplotlib.pyplot.show(*args, **kw)>"
      ]
     },
     "execution_count": 7,
     "metadata": {},
     "output_type": "execute_result"
    },
    {
     "data": {
      "image/png": "[encoded data removed]",
      "text/plain": [
       "<Figure size 432x288 with 1 Axes>"
      ]
     },
     "metadata": {
      "needs_background": "light"
     },
     "output_type": "display_data"
    }
   ],
   "source": [
    "plt.imshow(x_test[0].reshape(28,28))\n",
    "plt.show"
   ]
  },
  {
   "cell_type": "code",
   "execution_count": 8,
   "metadata": {},
   "outputs": [
    {
     "data": {
      "text/plain": [
       "0.99914545"
      ]
     },
     "execution_count": 8,
     "metadata": {},
     "output_type": "execute_result"
    }
   ],
   "source": [
    "h.history['acc'][-1]"
   ]
  },
  {
   "cell_type": "code",
   "execution_count": null,
   "metadata": {},
   "outputs": [],
   "source": []
  }
 ],
 "metadata": {
  "kernelspec": {
   "display_name": "Python 3",
   "language": "python",
   "name": "python3"
  },
  "language_info": {
   "codemirror_mode": {
    "name": "ipython",
    "version": 3
   },
   "file_extension": ".py",
   "mimetype": "text/x-python",
   "name": "python",
   "nbconvert_exporter": "python",
   "pygments_lexer": "ipython3",
   "version": "3.7.6"
  }
 },
 "nbformat": 4,
 "nbformat_minor": 4
}
